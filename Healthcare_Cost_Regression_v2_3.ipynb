{
  "nbformat": 4,
  "nbformat_minor": 0,
  "metadata": {
    "colab": {
      "name": "Healthcare_Cost_Regression_v2.3.ipynb",
      "provenance": []
    },
    "kernelspec": {
      "name": "python3",
      "display_name": "Python 3"
    },
    "language_info": {
      "name": "python"
    }
  },
  "cells": [
    {
      "cell_type": "code",
      "metadata": {
        "id": "GUJ9AcIN5q6_"
      },
      "source": [
        "#importing libraries\n",
        "import pandas as pd\n",
        "import matplotlib.pyplot as plt\n",
        "import numpy as np\n",
        "import seaborn as sns"
      ],
      "execution_count": 18,
      "outputs": []
    },
    {
      "cell_type": "code",
      "metadata": {
        "colab": {
          "base_uri": "https://localhost:8080/",
          "height": 220
        },
        "id": "Vewl8gE16GPA",
        "outputId": "4c0cefc0-4c98-4660-d173-f41fb98321db"
      },
      "source": [
        "#importing dataset\n",
        "ds = pd.read_csv('/content/insurance.csv')\n",
        "print(ds.shape)\n",
        "ds.head()\n"
      ],
      "execution_count": 40,
      "outputs": [
        {
          "output_type": "stream",
          "text": [
            "(1338, 7)\n"
          ],
          "name": "stdout"
        },
        {
          "output_type": "execute_result",
          "data": {
            "text/html": [
              "<div>\n",
              "<style scoped>\n",
              "    .dataframe tbody tr th:only-of-type {\n",
              "        vertical-align: middle;\n",
              "    }\n",
              "\n",
              "    .dataframe tbody tr th {\n",
              "        vertical-align: top;\n",
              "    }\n",
              "\n",
              "    .dataframe thead th {\n",
              "        text-align: right;\n",
              "    }\n",
              "</style>\n",
              "<table border=\"1\" class=\"dataframe\">\n",
              "  <thead>\n",
              "    <tr style=\"text-align: right;\">\n",
              "      <th></th>\n",
              "      <th>age</th>\n",
              "      <th>sex</th>\n",
              "      <th>bmi</th>\n",
              "      <th>children</th>\n",
              "      <th>smoker</th>\n",
              "      <th>region</th>\n",
              "      <th>charges</th>\n",
              "    </tr>\n",
              "  </thead>\n",
              "  <tbody>\n",
              "    <tr>\n",
              "      <th>0</th>\n",
              "      <td>19</td>\n",
              "      <td>female</td>\n",
              "      <td>27.900</td>\n",
              "      <td>0</td>\n",
              "      <td>yes</td>\n",
              "      <td>southwest</td>\n",
              "      <td>16884.92400</td>\n",
              "    </tr>\n",
              "    <tr>\n",
              "      <th>1</th>\n",
              "      <td>18</td>\n",
              "      <td>male</td>\n",
              "      <td>33.770</td>\n",
              "      <td>1</td>\n",
              "      <td>no</td>\n",
              "      <td>southeast</td>\n",
              "      <td>1725.55230</td>\n",
              "    </tr>\n",
              "    <tr>\n",
              "      <th>2</th>\n",
              "      <td>28</td>\n",
              "      <td>male</td>\n",
              "      <td>33.000</td>\n",
              "      <td>3</td>\n",
              "      <td>no</td>\n",
              "      <td>southeast</td>\n",
              "      <td>4449.46200</td>\n",
              "    </tr>\n",
              "    <tr>\n",
              "      <th>3</th>\n",
              "      <td>33</td>\n",
              "      <td>male</td>\n",
              "      <td>22.705</td>\n",
              "      <td>0</td>\n",
              "      <td>no</td>\n",
              "      <td>northwest</td>\n",
              "      <td>21984.47061</td>\n",
              "    </tr>\n",
              "    <tr>\n",
              "      <th>4</th>\n",
              "      <td>32</td>\n",
              "      <td>male</td>\n",
              "      <td>28.880</td>\n",
              "      <td>0</td>\n",
              "      <td>no</td>\n",
              "      <td>northwest</td>\n",
              "      <td>3866.85520</td>\n",
              "    </tr>\n",
              "  </tbody>\n",
              "</table>\n",
              "</div>"
            ],
            "text/plain": [
              "   age     sex     bmi  children smoker     region      charges\n",
              "0   19  female  27.900         0    yes  southwest  16884.92400\n",
              "1   18    male  33.770         1     no  southeast   1725.55230\n",
              "2   28    male  33.000         3     no  southeast   4449.46200\n",
              "3   33    male  22.705         0     no  northwest  21984.47061\n",
              "4   32    male  28.880         0     no  northwest   3866.85520"
            ]
          },
          "metadata": {
            "tags": []
          },
          "execution_count": 40
        }
      ]
    },
    {
      "cell_type": "code",
      "metadata": {
        "colab": {
          "base_uri": "https://localhost:8080/",
          "height": 321
        },
        "id": "E8u3fgOT7i2Y",
        "outputId": "7d08b3a0-eb79-4ffd-f619-5b8b1072e917"
      },
      "source": [
        "fig, axes = plt.subplots(1,4,sharey=True) #We will plot children, smoker, region, sex; \n",
        "\n",
        "plot_children = sns.boxplot(y= 'charges', x=\"children\", data=ds,  orient='v' , ax=axes[0])\n",
        "plot_smoker = sns.boxplot(y= 'charges',x=\"smoker\", data=ds,  orient='v' , ax=axes[1])\n",
        "plot_region = sns.boxplot(y= 'charges',x=\"region\", data=ds,  orient='v' , ax=axes[2])\n",
        "plot_sex = sns.boxplot(y= 'charges',x=\"sex\", data=ds,  orient='v' , ax=axes[3])\n",
        "plot_region.set_xticklabels(labels=ds['region'].unique(),rotation = 90)\n",
        "plot_sex.set_xticklabels(labels=ds['sex'].unique(),rotation = 90)\n",
        "for i in axes[1:4]:\n",
        "    i.set_ylabel('')   \n",
        "    \n",
        "plt.show()"
      ],
      "execution_count": 20,
      "outputs": [
        {
          "output_type": "display_data",
          "data": {
            "image/png": "[encoded data removed]",
            "text/plain": [
              "<Figure size 432x288 with 4 Axes>"
            ]
          },
          "metadata": {
            "tags": [],
            "needs_background": "light"
          }
        }
      ]
    },
    {
      "cell_type": "code",
      "metadata": {
        "id": "kNgS-IIP6d4E"
      },
      "source": [
        "#assigning dependent and independent variables\n",
        "x = ds.iloc[:,:-1].values\n",
        "y = ds.iloc[:,-1].values"
      ],
      "execution_count": 6,
      "outputs": []
    },
    {
      "cell_type": "code",
      "metadata": {
        "colab": {
          "base_uri": "https://localhost:8080/"
        },
        "id": "uIxc4XrX6elI",
        "outputId": "1fa5e500-a022-4cd2-cb95-3cfca45b6f1a"
      },
      "source": [
        "#checking for missing values\n",
        "ds.isnull().any()"
      ],
      "execution_count": 30,
      "outputs": [
        {
          "output_type": "execute_result",
          "data": {
            "text/plain": [
              "age         False\n",
              "sex         False\n",
              "bmi         False\n",
              "children    False\n",
              "smoker      False\n",
              "region      False\n",
              "charges     False\n",
              "dtype: bool"
            ]
          },
          "metadata": {
            "tags": []
          },
          "execution_count": 30
        }
      ]
    },
    {
      "cell_type": "markdown",
      "metadata": {
        "id": "v7yNF9uw6iUd"
      },
      "source": [
        "Encoding categorical data"
      ]
    },
    {
      "cell_type": "code",
      "metadata": {
        "id": "TLdLiZst6eiw"
      },
      "source": [
        "#applying label encoding on column 1 and 4\n",
        "from sklearn.preprocessing import LabelEncoder\n",
        "le = LabelEncoder()\n",
        "x[:,1]=le.fit_transform(x[:,1])\n",
        "x[:,4]=le.fit_transform(x[:,4])"
      ],
      "execution_count": 8,
      "outputs": []
    },
    {
      "cell_type": "code",
      "metadata": {
        "colab": {
          "base_uri": "https://localhost:8080/"
        },
        "id": "5LRiosdC6egI",
        "outputId": "00d645c2-340d-4cf0-f8a7-d0585cc1e47a"
      },
      "source": [
        "print(x)"
      ],
      "execution_count": 9,
      "outputs": [
        {
          "output_type": "stream",
          "text": [
            "[[19 0 27.9 0 1 'southwest']\n",
            " [18 1 33.77 1 0 'southeast']\n",
            " [28 1 33.0 3 0 'southeast']\n",
            " ...\n",
            " [18 0 36.85 0 0 'southeast']\n",
            " [21 0 25.8 0 0 'southwest']\n",
            " [61 0 29.07 0 1 'northwest']]\n"
          ],
          "name": "stdout"
        }
      ]
    },
    {
      "cell_type": "code",
      "metadata": {
        "colab": {
          "base_uri": "https://localhost:8080/"
        },
        "id": "LQEmm51C6edP",
        "outputId": "569d861d-b6e5-4162-915a-37fe9456962d"
      },
      "source": [
        "#applying one hot encoding on column 5\n",
        "from sklearn.compose import ColumnTransformer\n",
        "from sklearn.preprocessing import OneHotEncoder\n",
        "ct = ColumnTransformer(transformers = [('encoder',OneHotEncoder(),[5])],remainder = 'passthrough')\n",
        "x = np.array(ct.fit_transform(x))\n",
        "print(x)"
      ],
      "execution_count": 10,
      "outputs": [
        {
          "output_type": "stream",
          "text": [
            "[[0.0 0.0 0.0 ... 27.9 0 1]\n",
            " [0.0 0.0 1.0 ... 33.77 1 0]\n",
            " [0.0 0.0 1.0 ... 33.0 3 0]\n",
            " ...\n",
            " [0.0 0.0 1.0 ... 36.85 0 0]\n",
            " [0.0 0.0 0.0 ... 25.8 0 0]\n",
            " [0.0 1.0 0.0 ... 29.07 0 1]]\n"
          ],
          "name": "stdout"
        }
      ]
    },
    {
      "cell_type": "code",
      "metadata": {
        "id": "tIHIELgs6ea3"
      },
      "source": [
        "#splitting into training and test set\n",
        "from sklearn.model_selection import train_test_split\n",
        "x_train,x_test,y_train,y_test=train_test_split(x,y,test_size=0.2,random_state=0)"
      ],
      "execution_count": 11,
      "outputs": []
    },
    {
      "cell_type": "code",
      "metadata": {
        "colab": {
          "base_uri": "https://localhost:8080/"
        },
        "id": "L3CdzP1M95YA",
        "outputId": "cd21cc35-6bbe-4808-c6e4-7f814ab7a3dc"
      },
      "source": [
        "x[0]"
      ],
      "execution_count": 39,
      "outputs": [
        {
          "output_type": "execute_result",
          "data": {
            "text/plain": [
              "array([0.0, 0.0, 0.0, 1.0, 19, 0, 27.9, 0, 1], dtype=object)"
            ]
          },
          "metadata": {
            "tags": []
          },
          "execution_count": 39
        }
      ]
    },
    {
      "cell_type": "markdown",
      "metadata": {
        "id": "8cISsG-N6qp_"
      },
      "source": [
        "Modelling"
      ]
    },
    {
      "cell_type": "markdown",
      "metadata": {
        "id": "kySFDXQc6sh_"
      },
      "source": [
        "1. Linear Regression"
      ]
    },
    {
      "cell_type": "code",
      "metadata": {
        "colab": {
          "base_uri": "https://localhost:8080/"
        },
        "id": "j67zV3066eYL",
        "outputId": "e4be6b0c-071b-4a08-acd3-0d144b2556ea"
      },
      "source": [
        "from sklearn.linear_model import LinearRegression\n",
        "lr=LinearRegression()\n",
        "lr.fit(x_train,y_train)\n",
        "lr=LinearRegression()\n",
        "lr.fit(x_train,y_train)\n",
        "lra = lr.score(x_test,y_test)\n",
        "print(lr.score(x_test,y_test))"
      ],
      "execution_count": 12,
      "outputs": [
        {
          "output_type": "stream",
          "text": [
            "0.7999876970680434\n"
          ],
          "name": "stdout"
        }
      ]
    },
    {
      "cell_type": "markdown",
      "metadata": {
        "id": "OdH-Vs7o6wOT"
      },
      "source": [
        "2. Polynomial Regression"
      ]
    },
    {
      "cell_type": "code",
      "metadata": {
        "colab": {
          "base_uri": "https://localhost:8080/"
        },
        "id": "y_-gWDKU6eVt",
        "outputId": "d1263d41-fa94-41f4-a006-7697434190a9"
      },
      "source": [
        "from sklearn.preprocessing import PolynomialFeatures\n",
        "pf = PolynomialFeatures(degree = 4)\n",
        "x_new = pf.fit_transform(x_train)\n",
        "plr=LinearRegression()\n",
        "plr.fit(x_new,y_train)\n",
        "lra2 = plr.score(pf.transform(x_test),y_test)\n",
        "print(plr.score(pf.transform(x_test),y_test))"
      ],
      "execution_count": 13,
      "outputs": [
        {
          "output_type": "stream",
          "text": [
            "0.844461167137149\n"
          ],
          "name": "stdout"
        }
      ]
    },
    {
      "cell_type": "markdown",
      "metadata": {
        "id": "5hPLx9GY60Jr"
      },
      "source": [
        "3. Decision Tree Regression"
      ]
    },
    {
      "cell_type": "code",
      "metadata": {
        "colab": {
          "base_uri": "https://localhost:8080/"
        },
        "id": "CdOhGHOW6eTH",
        "outputId": "da47ddd1-2474-4d29-8f9f-43ca73780a04"
      },
      "source": [
        "from sklearn.tree import DecisionTreeRegressor\n",
        "dt = DecisionTreeRegressor()\n",
        "dt.fit(x_train, y_train)\n",
        "dta = dt.score(x_test,y_test)\n",
        "print(dt.score(x_test,y_test))"
      ],
      "execution_count": 14,
      "outputs": [
        {
          "output_type": "stream",
          "text": [
            "0.7521093226006283\n"
          ],
          "name": "stdout"
        }
      ]
    },
    {
      "cell_type": "markdown",
      "metadata": {
        "id": "_OejVwTG647v"
      },
      "source": [
        "4. Random Forest Regression"
      ]
    },
    {
      "cell_type": "code",
      "metadata": {
        "colab": {
          "base_uri": "https://localhost:8080/"
        },
        "id": "WZuaC5Y56pru",
        "outputId": "352baf0d-88ba-4bb4-a6df-d752e945845d"
      },
      "source": [
        "from sklearn.ensemble import RandomForestRegressor\n",
        "rf = RandomForestRegressor(n_estimators = 100, random_state = 0)\n",
        "rf.fit(x_train, y_train)\n",
        "rfa = rf.score(x_test,y_test)\n",
        "print(rf.score(x_test,y_test))"
      ],
      "execution_count": 15,
      "outputs": [
        {
          "output_type": "stream",
          "text": [
            "0.8768283897172992\n"
          ],
          "name": "stdout"
        }
      ]
    },
    {
      "cell_type": "code",
      "metadata": {
        "colab": {
          "base_uri": "https://localhost:8080/",
          "height": 336
        },
        "id": "wXRsg7rx68Zb",
        "outputId": "8e425643-fbfd-4191-b77d-7773c9fe1436"
      },
      "source": [
        "#comparing accuracy\n",
        "fig = plt.figure()\n",
        "ax = fig.add_axes([0,0,1,1])\n",
        "langs = ['LR', 'PR', 'DTR', 'RFR']\n",
        "students = [lra,lra2,dta,rfa]\n",
        "ax.bar(langs,students)\n",
        "plt.show()"
      ],
      "execution_count": 16,
      "outputs": [
        {
          "output_type": "display_data",
          "data": {
            "image/png": "[encoded data removed]",
            "text/plain": [
              "<Figure size 432x288 with 1 Axes>"
            ]
          },
          "metadata": {
            "tags": [],
            "needs_background": "light"
          }
        }
      ]
    },
    {
      "cell_type": "code",
      "metadata": {
        "id": "MrMXM3Mr68Ws"
      },
      "source": [
        ""
      ],
      "execution_count": 16,
      "outputs": []
    },
    {
      "cell_type": "code",
      "metadata": {
        "id": "Vp9ejX4u6poT"
      },
      "source": [
        ""
      ],
      "execution_count": 16,
      "outputs": []
    },
    {
      "cell_type": "code",
      "metadata": {
        "id": "_mAl49P96plM"
      },
      "source": [
        ""
      ],
      "execution_count": 16,
      "outputs": []
    }
  ]
}